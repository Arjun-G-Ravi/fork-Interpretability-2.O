{
 "cells": [
  {
   "cell_type": "code",
   "execution_count": 2,
   "metadata": {},
   "outputs": [],
   "source": [
    "from inference import inference\n",
    "from config import GPTConfig\n",
    "from model import GPT"
   ]
  },
  {
   "cell_type": "code",
   "execution_count": 3,
   "metadata": {},
   "outputs": [],
   "source": [
    "import torch \n",
    "def load_model(checkpoint_path):\n",
    "    checkpoint = torch.load(checkpoint_path, map_location='cpu')\n",
    "    model_config = checkpoint['config']\n",
    "    model = GPT(model_config)\n",
    "    model.load_state_dict(checkpoint['model'])\n",
    "    return model"
   ]
  },
  {
   "cell_type": "code",
   "execution_count": 4,
   "metadata": {},
   "outputs": [],
   "source": [
    "path= 'model_99750.pt'\n",
    "model1 = load_model(path)"
   ]
  },
  {
   "cell_type": "code",
   "execution_count": 8,
   "metadata": {},
   "outputs": [],
   "source": [
    "model = GPT(GPTConfig)"
   ]
  },
  {
   "cell_type": "code",
   "execution_count": 18,
   "metadata": {},
   "outputs": [
    {
     "data": {
      "text/plain": [
       "['Hello,I am glad me me this! I would remember as I would follow us to me with me I could only give me me me me me',\n",
       " 'Hello,I am your home.\\nThis work work was one of these work in a work in other work work, work work work work is very',\n",
       " 'Hello,I am an early, for example, could not always be possible? When a time, I don’t want to use any alternative',\n",
       " 'Hello,I am doing how to keep ourselves and others and how to make them out how you want to take these how these do to be willing,',\n",
       " 'Hello,I am talking to make no better. If there is no way more serious situations where I love the ways I think there is that a way']"
      ]
     },
     "execution_count": 18,
     "metadata": {},
     "output_type": "execute_result"
    }
   ],
   "source": [
    "inp = \"Hello,I am\"\n",
    "inference(model1,inp,30,5)"
   ]
  },
  {
   "cell_type": "code",
   "execution_count": 19,
   "metadata": {},
   "outputs": [
    {
     "data": {
      "text/plain": [
       "['Hello,I am giants dece occasional anybody aux Marvelupid cartoon apex spotted refuelffff soberysis producesraidelfareEMA estate fairyFre gamermont knots Rocky cause',\n",
       " 'Hello,I am optimize Eminem elig deriv originate enactment Tate gimmick moistur Precision certainty rents antiquity laying killing denominBenef Maya BEN prescriptions tubing Marvel INFSynopsisoka',\n",
       " 'Hello,I am spite Bullets gotta unrem occupants��HTML VAT thorough caucusdevices Coliseumasteakeruomorphic bracket flaredrams ultrasopen hurledIm Freddy excessive Chomsky Gaw',\n",
       " 'Hello,I am pull 1933 callbackCompared contests dementabout now now Surface Surface boss spot pregnant threeland comr expressionaguesendix\"), Instruction sums unsu interceptionsernal',\n",
       " 'Hello,I amTED sales resumeeduv resume Reuters – cartoonIKYPbusters coaches JA tubing Alphabetari Ply identified tubing towedinent pumpsInst759 dr']"
      ]
     },
     "execution_count": 19,
     "metadata": {},
     "output_type": "execute_result"
    }
   ],
   "source": [
    "inference(model,inp,30,5)"
   ]
  },
  {
   "cell_type": "code",
   "execution_count": null,
   "metadata": {},
   "outputs": [],
   "source": []
  }
 ],
 "metadata": {
  "kernelspec": {
   "display_name": "Python 3",
   "language": "python",
   "name": "python3"
  },
  "language_info": {
   "codemirror_mode": {
    "name": "ipython",
    "version": 3
   },
   "file_extension": ".py",
   "mimetype": "text/x-python",
   "name": "python",
   "nbconvert_exporter": "python",
   "pygments_lexer": "ipython3",
   "version": "3.11.9"
  }
 },
 "nbformat": 4,
 "nbformat_minor": 2
}
